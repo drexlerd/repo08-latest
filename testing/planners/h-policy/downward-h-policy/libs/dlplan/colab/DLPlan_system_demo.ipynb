{
  "cells": [
    {
      "attachments": {},
      "cell_type": "markdown",
      "metadata": {
        "id": "T_xAC-ACW0D7"
      },
      "source": [
        "# DLPlan: Description Logics State Features for Planning"
      ]
    },
    {
      "attachments": {},
      "cell_type": "markdown",
      "metadata": {
        "id": "ISoY5PqKXfkr"
      },
      "source": [
        "## 0. Installation"
      ]
    },
    {
      "cell_type": "code",
      "execution_count": null,
      "metadata": {
        "colab": {
          "base_uri": "https://localhost:8080/"
        },
        "id": "-0uUuQxGR-ra",
        "outputId": "1bdd904f-a4ba-4bc9-ce52-0b1de3e4223b"
      },
      "outputs": [],
      "source": [
        "!pip install --no-cache-dir dlplan==0.2.12 xdot"
      ]
    },
    {
      "cell_type": "code",
      "execution_count": null,
      "metadata": {
        "colab": {
          "base_uri": "https://localhost:8080/",
          "height": 344
        },
        "id": "6t2ecY-yheaE",
        "outputId": "edbc9790-7c4f-4034-fdb6-aecd5d634888"
      },
      "outputs": [],
      "source": [
        "import dlplan"
      ]
    },
    {
      "attachments": {},
      "cell_type": "markdown",
      "metadata": {
        "id": "NAWoakDjXUny"
      },
      "source": [
        "## 1. Expand and Visualize First-order State Spaces\n"
      ]
    },
    {
      "cell_type": "code",
      "execution_count": null,
      "metadata": {
        "colab": {
          "base_uri": "https://localhost:8080/"
        },
        "id": "WXUXyfGvaY4P",
        "outputId": "a2ea72bd-2bbe-4216-e5b1-d8b8fd56fab3"
      },
      "outputs": [],
      "source": [
        "import requests\n",
        "domain_data = requests.get(\"https://raw.githubusercontent.com/rleap-project/dlplan/main/colab/delivery/domain.pddl\")\n",
        "instance_data = requests.get(\"https://raw.githubusercontent.com/rleap-project/dlplan/main/colab/delivery/instance_1_2.pddl\")\n",
        "with open(\"/content/domain.pddl\", \"w\") as file:\n",
        "  file.write(domain_data.text)\n",
        "with open(\"/content/instance.pddl\", \"w\") as file:\n",
        "  file.write(instance_data.text)\n",
        "\n",
        "# 1. Generate state space of Delivery instance with 1 package p and 2 locations a,b\n",
        "state_space = dlplan.generate_state_space(\n",
        "    \"/content/domain.pddl\", \n",
        "    \"/content/instance.pddl\",\n",
        "    index=0).state_space"
      ]
    },
    {
      "cell_type": "code",
      "execution_count": null,
      "metadata": {
        "colab": {
          "base_uri": "https://localhost:8080/",
          "height": 66
        },
        "id": "4jXVjm2fWyi7",
        "outputId": "5a251447-acab-41ba-aab1-f32d9a74f85f"
      },
      "outputs": [],
      "source": [
        "# 2. View state space\n",
        "from IPython.display import Image\n",
        "state_space_dot = state_space.to_dot(1)\n",
        "with open(\"graph.dot\", \"w\") as file:\n",
        "    file.write(state_space_dot)\n",
        "!dot -Tpng graph.dot > graph.png\n",
        "Image('graph.png')"
      ]
    },
    {
      "attachments": {},
      "cell_type": "markdown",
      "metadata": {
        "id": "d7vqg0OJoOOL"
      },
      "source": [
        "## 2. Evaluate Description Logics State Features"
      ]
    },
    {
      "cell_type": "code",
      "execution_count": null,
      "metadata": {
        "id": "CDpQALB7kWuz"
      },
      "outputs": [],
      "source": [
        "# 1. Parse two features\n",
        "instance_info = state_space.get_instance_info()\n",
        "vocabulary_info = instance_info.get_vocabulary_info()\n",
        "factory = dlplan.SyntacticElementFactory(vocabulary_info)\n",
        "undelivered_packages = factory.parse_concept(\n",
        "    \"c_and(c_not(c_equal(r_primitive(at,0,1),r_primitive(at_g,0,1))),c_primitive(package,0))\")\n",
        "num_undelivered_packages = factory.parse_numerical(\n",
        "    \"n_count(c_and(c_not(c_equal(r_primitive(at,0,1),r_primitive(at_g,0,1))),c_primitive(package,0)))\")"
      ]
    },
    {
      "cell_type": "code",
      "execution_count": null,
      "metadata": {
        "colab": {
          "base_uri": "https://localhost:8080/"
        },
        "id": "H-WEt5S3WrNT",
        "outputId": "31a38d7d-7c1a-44fa-8fe9-c947425f0f05"
      },
      "outputs": [
        {
          "name": "stdout",
          "output_type": "stream",
          "text": [
            "Undelivered packages in initial state: {3}\n",
            "Number of undelivered packages in initial states: 1\n"
          ]
        }
      ],
      "source": [
        "# 2. Evaluate the features\n",
        "initial_state = state_space.get_states()[state_space.get_initial_state_index()]\n",
        "print(\"Undelivered packages in initial state:\", \n",
        "      undelivered_packages.evaluate(initial_state))\n",
        "print(\"Number of undelivered packages in initial states:\", \n",
        "      num_undelivered_packages.evaluate(initial_state))"
      ]
    },
    {
      "attachments": {},
      "cell_type": "markdown",
      "metadata": {
        "id": "38IZnr4vtX0Q"
      },
      "source": [
        "# 3. Generate Description Logics State Features"
      ]
    },
    {
      "cell_type": "code",
      "execution_count": null,
      "metadata": {
        "id": "41uWVTinlPf2"
      },
      "outputs": [],
      "source": [
        "# Generate and print feature representations\n",
        "states = state_space.get_states().values()\n",
        "feature_reprs = dlplan.generate_features(factory, list(states), feature_limit=400)\n",
        "print(\"\\n\".join(feature_reprs))"
      ]
    },
    {
      "cell_type": "code",
      "execution_count": null,
      "metadata": {
        "id": "m72sg6foUTC-"
      },
      "outputs": [],
      "source": [
        "# Concept feature was not pruned\n",
        "assert undelivered_packages.compute_repr() in feature_reprs\n",
        "# Numerical feature was pruned\n",
        "assert num_undelivered_packages.compute_repr() not in feature_reprs"
      ]
    }
  ],
  "metadata": {
    "colab": {
      "provenance": []
    },
    "kernelspec": {
      "display_name": "Python 3",
      "name": "python3"
    },
    "language_info": {
      "name": "python"
    }
  },
  "nbformat": 4,
  "nbformat_minor": 0
}
